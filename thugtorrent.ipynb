{
  "nbformat": 4,
  "nbformat_minor": 0,
  "metadata": {
    "colab": {
      "provenance": [],
      "authorship_tag": "ABX9TyMTaGK+xgdObkW6FvXAG79U",
      "include_colab_link": true
    },
    "kernelspec": {
      "name": "python3",
      "display_name": "Python 3"
    },
    "language_info": {
      "name": "python"
    },
    "accelerator": "GPU",
    "gpuClass": "standard"
  },
  "cells": [
    {
      "cell_type": "markdown",
      "metadata": {
        "id": "view-in-github",
        "colab_type": "text"
      },
      "source": [
        "<a href=\"https://colab.research.google.com/github/thugdb/Torrent-to-Gdrive/blob/main/thugtorrent.ipynb\" target=\"_parent\"><img src=\"https://colab.research.google.com/assets/colab-badge.svg\" alt=\"Open In Colab\"/></a>"
      ]
    },
    {
      "cell_type": "markdown",
      "source": [
        "# __Mount Google Drive__"
      ],
      "metadata": {
        "id": "qC6PmtJYyK2A"
      }
    },
    {
      "cell_type": "code",
      "source": [
        "#@markdown <br><center><img src='https://raw.githubusercontent.com/dropcreations/Essential-Google-Colab-Notebook/0b62cd8a437d3439a1dbece9119b73bfa890ad1a/cell_logos/Google-Drive-Logo.svg' height=\"50\" alt=\"Gdrive-logo\"/></center>\n",
        "#@markdown <center><h3><b>Mount Google Drive</b></h3></center><br>\n",
        "MODE = \"MOUNT\" #@param [\"MOUNT\", \"UNMOUNT\"]\n",
        "#Mount your Gdrive! \n",
        "from google.colab import drive\n",
        "drive.mount._DEBUG = False\n",
        "if MODE == \"MOUNT\":\n",
        "  drive.mount('/content/drive', force_remount=True)\n",
        "elif MODE == \"UNMOUNT\":\n",
        "  try:\n",
        "    drive.flush_and_unmount()\n",
        "  except ValueError:\n",
        "    pass\n",
        "  get_ipython().system_raw(\"rm -rf /root/.config/Google/DriveFS\")"
      ],
      "metadata": {
        "cellView": "form",
        "id": "0Il1pfgPyP7c"
      },
      "execution_count": null,
      "outputs": []
    },
    {
      "cell_type": "markdown",
      "metadata": {
        "id": "21-Wb8ywqQeJ"
      },
      "source": [
        "# Run this for staying connect"
      ]
    },
    {
      "cell_type": "markdown",
      "metadata": {
        "id": "r1t2SHxO0xWQ"
      },
      "source": [
        "## <font size='6'>Method 1</font>"
      ]
    },
    {
      "cell_type": "code",
      "execution_count": null,
      "metadata": {
        "cellView": "form",
        "id": "nYEj5CeCqbTY"
      },
      "outputs": [],
      "source": [
        "# ============================= FORM ============================= #\n",
        "# @markdown <font size=5>← [Start] Colab Stay Alive</font>\n",
        "# @markdown > This cell runs a JS code that will automatically press the reconnect button when you got disconnected due to idle.\n",
        "# ================================================================ #\n",
        "\n",
        "import IPython\n",
        "from IPython.display import clear_output\n",
        "from google.colab import output\n",
        "\n",
        "display(IPython.display.Javascript('''\n",
        " function ClickConnect(){\n",
        "   btn = document.querySelector(\"colab-connect-button\")\n",
        "   if (btn != null){\n",
        "     console.log(\"Clicked on the connect button\"); \n",
        "     btn.click() \n",
        "     }\n",
        "   \n",
        "   btn = document.getElementById('connect')\n",
        "   if (btn != null){\n",
        "     console.log(\"Clicked on the reconnect button\"); \n",
        "     btn.click() \n",
        "     }\n",
        "  }\n",
        "  \n",
        "setInterval(ClickConnect,60000)\n",
        "'''))\n",
        "\n",
        "clear_output()"
      ]
    },
    {
      "cell_type": "markdown",
      "metadata": {
        "id": "cRwNEZJmUFMg"
      },
      "source": [
        "If the cell above doesn't work, try to run one of these codes below on your browser's developer tool/console.\n",
        "\n",
        "</br>\n",
        "\n",
        ">Code 1</br>(credit to rockyourcode)\n",
        "<pre><code>function ClickConnect() {\n",
        "  console.log('Working')\n",
        "  document\n",
        "    .querySelector('#top-toolbar > colab-connect-button')\n",
        "    .shadowRoot.querySelector('#connect')\n",
        "    .click()\n",
        "}\n",
        "\n",
        "setInterval(ClickConnect, 60000)</code></pre>\n",
        "\n",
        "</br>\n",
        "\n",
        "> Code 2</br>(credit to Kavyajeet Bora on stack overflow)\n",
        "<pre><code>function ClickConnect(){\n",
        "    console.log(\"Working\"); \n",
        "    document.querySelector(\"colab-toolbar-button#connect\").click() \n",
        "}\n",
        "setInterval(ClickConnect,60000)</code></pre>\n",
        "\n",
        "</br>\n",
        "\n",
        "> Code 3\n",
        "<pre><code>function ClickConnect(){\n",
        "  console.log(\"Connnect Clicked - Start\"); \n",
        "  document.querySelector(\"#top-toolbar > colab-connect-button\").shadowRoot.querySelector(\"#connect\").click();\n",
        "  console.log(\"Connnect Clicked - End\"); \n",
        "};\n",
        "setInterval(ClickConnect, 60000)</code></pre>\n",
        "\n",
        "</br>\n",
        "\n",
        "> Code 4</br>(credit to Stephane Belemkoabga on stack overflow)\n",
        "<pre><code>function ClickConnect(){\n",
        "    console.log(\"Working\"); \n",
        "    document.querySelector(\"colab-connect-button\").click() \n",
        "}\n",
        "setInterval(ClickConnect,60000)</code></pre>"
      ]
    },
    {
      "cell_type": "markdown",
      "metadata": {
        "id": "fy9WgLvs05Ty"
      },
      "source": [
        "## <font size='6'>Method 2</font>"
      ]
    },
    {
      "cell_type": "code",
      "execution_count": null,
      "metadata": {
        "cellView": "form",
        "id": "JJZoz_2mMCEw"
      },
      "outputs": [],
      "source": [
        "# ==============================#============================== #\n",
        "# @markdown <font size=\"4\">Run this cell if there is no methods working in Method 1.</font>\n",
        "# @markdown > If you want to run other cell, stop this first and then run it again if you need it.\n",
        "# ==============================#============================== #\n",
        "\n",
        "import time\n",
        "from IPython.display import clear_output\n",
        "\n",
        "\n",
        "def loop():\n",
        "    counter = 0\n",
        "    second = 60\n",
        "\n",
        "    while True:\n",
        "        clear_output()\n",
        "\n",
        "        print(f'This cell has been running for {counter} minute(s)...')\n",
        "\n",
        "        counter += 1\n",
        "        time.sleep(second)\n",
        "\n",
        "\n",
        "if __name__ == '__main__':\n",
        "    try:\n",
        "        loop()\n",
        "    except KeyboardInterrupt:\n",
        "        clear_output()\n",
        "        exit\n",
        "    else:\n",
        "        pass\n"
      ]
    },
    {
      "cell_type": "markdown",
      "source": [
        "# Libtorrent"
      ],
      "metadata": {
        "id": "91TXYt4hTdpY"
      }
    },
    {
      "cell_type": "code",
      "execution_count": 1,
      "metadata": {
        "cellView": "form",
        "id": "iM8aKzEq9rQD",
        "colab": {
          "base_uri": "https://localhost:8080/"
        },
        "outputId": "1bf9422f-1b1f-4398-a6ef-e0e223b64a3e"
      },
      "outputs": [
        {
          "output_type": "stream",
          "name": "stdout",
          "text": [
            "Successfully Installed.\n"
          ]
        }
      ],
      "source": [
        "#@markdown <br><center><img src='https://www.libtorrent.org/img/logo-color.png' height=\"50\" alt=\"libtorrent-logo\"/></center>\n",
        "#@markdown <center><h3><b>Install libtorrent</b></h3></center><br>\n",
        "from IPython.display import clear_output\n",
        "\n",
        "!python -m pip install lbry-libtorrent\n",
        "!apt install python3-libtorrent\n",
        "\n",
        "clear_output()\n",
        "print(\"Successfully Installed.\")"
      ]
    },
    {
      "cell_type": "code",
      "execution_count": null,
      "metadata": {
        "cellView": "form",
        "id": "qz_uuqss-Hck"
      },
      "outputs": [],
      "source": [
        "import time\n",
        "import os, sys, re\n",
        "import libtorrent as lt\n",
        "import ipywidgets as widgets\n",
        "from google.colab import files\n",
        "from IPython.display import display, clear_output\n",
        "\n",
        "savePath = \"/content/drive/Shareddrives/Team Thug/qbit\" #@param {type:\"string\"}\n",
        "downloadType = \"torrentFile\" #@param [\"torrentFile\", \"magnetLink\"]\n",
        "\n",
        "ses = lt.session()\n",
        "ses.listen_on(6881, 6891)\n",
        "downloads = []\n",
        "\n",
        "if downloadType == \"torrentFile\":\n",
        "    source = files.upload()\n",
        "    params = {\n",
        "        \"save_path\": savePath,\n",
        "        \"ti\": lt.torrent_info(list(source.keys())[0])\n",
        "    }\n",
        "    downloads.append(ses.add_torrent(params))\n",
        "    clear_output()\n",
        "else:\n",
        "    magnetLink = input(\"magnetLink: \")\n",
        "    params = {\n",
        "        \"save_path\": savePath\n",
        "    }\n",
        "    downloads.append(lt.add_magnet_uri(ses, magnetLink, params))\n",
        "    clear_output()\n",
        "\n",
        "state_str = [\n",
        "    \"queued\",\n",
        "    \"checking\",\n",
        "    \"downloading metadata\",\n",
        "    \"downloading\",\n",
        "    \"finished\",\n",
        "    \"seeding\",\n",
        "    \"allocating\",\n",
        "    \"checking fastresume\",\n",
        "]\n",
        "\n",
        "layout = widgets.Layout(width=\"auto\")\n",
        "style = {\"description_width\": \"initial\"}\n",
        "download_bars = [widgets.FloatSlider(step=0.01, disabled=True, layout=layout, style=style) for _ in downloads]\n",
        "display(*download_bars)\n",
        "\n",
        "while downloads:\n",
        "    next_shift = 0\n",
        "    for index, download in enumerate(downloads[:]):\n",
        "        bar = download_bars[index + next_shift]\n",
        "        if not download.is_seed():\n",
        "            s = download.status()\n",
        "\n",
        "            bar.description = \" \".join(\n",
        "                [\n",
        "                    download.name(),\n",
        "                    str(s.download_rate / 1000),\n",
        "                    \"kB/s\",\n",
        "                    state_str[s.state],\n",
        "                ]\n",
        "            )\n",
        "            bar.value = s.progress * 100\n",
        "        else:\n",
        "            next_shift -= 1\n",
        "            ses.remove_torrent(download)\n",
        "            downloads.remove(download)\n",
        "            bar.close() # Seems to be not working in Colab (see https://github.com/googlecolab/colabtools/issues/726#issue-486731758)\n",
        "            download_bars.remove(bar)\n",
        "            print(download.name(), \"complete\")\n",
        "    time.sleep(1)"
      ]
    },
    {
      "cell_type": "markdown",
      "source": [
        "#### __qBittorrent__"
      ],
      "metadata": {
        "id": "kM1Nz11l830X"
      }
    },
    {
      "cell_type": "code",
      "source": [
        "#@markdown <br><center><img src='https://raw.githubusercontent.com/dropcreations/Essential-Google-Colab-Notebook/0b62cd8a437d3439a1dbece9119b73bfa890ad1a/cell_logos/qBittorrent-Logo.svg' height=\"50\" alt=\"qBittorrent-logo\"/></center>\n",
        "#@markdown <center><h3><b>Install qBittorrent</b></h3></center><br>\n",
        "import os\n",
        "import time\n",
        "import json\n",
        "import urllib.request\n",
        "from IPython.display import clear_output\n",
        "\n",
        "if os.path.isfile('/tools/node/bin/lt') is False:\n",
        "    !npm install -g npm\n",
        "    !npm install -g localtunnel\n",
        "else:\n",
        "    print(\"Localtunnel is already installed.\")\n",
        "\n",
        "if os.path.isfile(\"/usr/bin/qbittorrent-nox\") is False:\n",
        "    !apt update -qq -y && yes \"\" | add-apt-repository ppa:qbittorrent-team/qbittorrent-stable\n",
        "    !apt install qbittorrent-nox\n",
        "    !mkdir -p -m 666 /{content/qBittorrent,root/{.qBittorrent_temp,.config/qBittorrent}} && curl -s https://pastebin.com/raw/7TEALGNz -o /root/.config/qBittorrent/qBittorrent.conf\n",
        "    print(\"qBittorrent successfully installed.\")\n",
        "    clear_output(wait=True)\n",
        "else:\n",
        "    print(\"qBittorrent is already installed.\")\n",
        "    clear_output(wait=True)\n",
        "    !pkill qbittorrent-nox\n",
        "\n",
        "!qbittorrent-nox -d --webui-port=5454\n",
        "print(\"qBittorrent is started.\")\n",
        "clear_output(wait=True)\n",
        "!lt --port 5454"
      ],
      "metadata": {
        "cellView": "form",
        "id": "f3u7pVeD9OPe",
        "colab": {
          "base_uri": "https://localhost:8080/"
        },
        "outputId": "90e0d505-6d66-4736-fe2c-9ce296df7844"
      },
      "execution_count": null,
      "outputs": [
        {
          "output_type": "stream",
          "name": "stdout",
          "text": [
            "your url is: https://pink-breads-mix-34-90-63-0.loca.lt\n"
          ]
        }
      ]
    }
  ]
}