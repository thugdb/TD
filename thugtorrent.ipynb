{
  "nbformat": 4,
  "nbformat_minor": 0,
  "metadata": {
    "colab": {
      "provenance": [],
      "authorship_tag": "ABX9TyNzeEuCz8TsxW4QkvC+89lv",
      "include_colab_link": true
    },
    "kernelspec": {
      "name": "python3",
      "display_name": "Python 3"
    },
    "language_info": {
      "name": "python"
    },
    "accelerator": "GPU",
    "gpuClass": "standard"
  },
  "cells": [
    {
      "cell_type": "markdown",
      "metadata": {
        "id": "view-in-github",
        "colab_type": "text"
      },
      "source": [
        "<a href=\"https://colab.research.google.com/github/thugdb/TD/blob/main/thugtorrent.ipynb\" target=\"_parent\"><img src=\"https://colab.research.google.com/assets/colab-badge.svg\" alt=\"Open In Colab\"/></a>"
      ]
    },
    {
      "cell_type": "code",
      "source": [
        "#@markdown <br><center><img src='https://raw.githubusercontent.com/dropcreations/Essential-Google-Colab-Notebook/0b62cd8a437d3439a1dbece9119b73bfa890ad1a/cell_logos/Google-Drive-Logo.svg' height=\"50\" alt=\"Gdrive-logo\"/></center>\n",
        "#@markdown <center><h3><b>Mount Google Drive</b></h3></center><br>\n",
        "MODE = \"MOUNT\" #@param [\"MOUNT\", \"UNMOUNT\"]\n",
        "#Mount your Gdrive! \n",
        "from google.colab import drive\n",
        "drive.mount._DEBUG = False\n",
        "if MODE == \"MOUNT\":\n",
        "  drive.mount('/content/drive', force_remount=True)\n",
        "elif MODE == \"UNMOUNT\":\n",
        "  try:\n",
        "    drive.flush_and_unmount()\n",
        "  except ValueError:\n",
        "    pass\n",
        "  get_ipython().system_raw(\"rm -rf /root/.config/Google/DriveFS\")"
      ],
      "metadata": {
        "cellView": "form",
        "id": "0Il1pfgPyP7c",
        "colab": {
          "base_uri": "https://localhost:8080/"
        },
        "outputId": "659a6138-bbb2-4926-f399-a2eb2c07c262"
      },
      "execution_count": 1,
      "outputs": [
        {
          "output_type": "stream",
          "name": "stdout",
          "text": [
            "Mounted at /content/drive\n"
          ]
        }
      ]
    },
    {
      "cell_type": "code",
      "execution_count": 4,
      "metadata": {
        "cellView": "form",
        "id": "iM8aKzEq9rQD",
        "colab": {
          "base_uri": "https://localhost:8080/"
        },
        "outputId": "d7a31f3b-aa29-4249-dd82-155815bcb880"
      },
      "outputs": [
        {
          "output_type": "stream",
          "name": "stdout",
          "text": [
            "Successfully Installed.\n"
          ]
        }
      ],
      "source": [
        "#@markdown <br><center><img src='https://www.libtorrent.org/img/logo-color.png' height=\"50\" alt=\"libtorrent-logo\"/></center>\n",
        "#@markdown <center><h3><b>Install libtorrent</b></h3></center><br>\n",
        "from IPython.display import clear_output\n",
        "\n",
        "!python -m pip install lbry-libtorrent\n",
        "!apt install python3-libtorrent\n",
        "\n",
        "clear_output()\n",
        "print(\"Successfully Installed.\")"
      ]
    },
    {
      "cell_type": "code",
      "execution_count": null,
      "metadata": {
        "cellView": "form",
        "id": "qz_uuqss-Hck"
      },
      "outputs": [],
      "source": [
        "import time\n",
        "import os, sys, re\n",
        "import libtorrent as lt\n",
        "import ipywidgets as widgets\n",
        "from google.colab import files\n",
        "from IPython.display import display, clear_output\n",
        "\n",
        "savePath = \"/content/drive/Shareddrives/Team Thug/qbit\" #@param {type:\"string\"}\n",
        "downloadType = \"magnetLink\" #@param [\"torrentFile\", \"magnetLink\"]\n",
        "\n",
        "ses = lt.session()\n",
        "ses.listen_on(6881, 6891)\n",
        "downloads = []\n",
        "\n",
        "if downloadType == \"torrentFile\":\n",
        "    source = files.upload()\n",
        "    params = {\n",
        "        \"save_path\": savePath,\n",
        "        \"ti\": lt.torrent_info(list(source.keys())[0])\n",
        "    }\n",
        "    downloads.append(ses.add_torrent(params))\n",
        "    clear_output()\n",
        "else:\n",
        "    magnetLink = input(\"magnetLink: \")\n",
        "    params = {\n",
        "        \"save_path\": savePath\n",
        "    }\n",
        "    downloads.append(lt.add_magnet_uri(ses, magnetLink, params))\n",
        "    clear_output()\n",
        "\n",
        "state_str = [\n",
        "    \"queued\",\n",
        "    \"checking\",\n",
        "    \"downloading metadata\",\n",
        "    \"downloading\",\n",
        "    \"finished\",\n",
        "    \"seeding\",\n",
        "    \"allocating\",\n",
        "    \"checking fastresume\",\n",
        "]\n",
        "\n",
        "layout = widgets.Layout(width=\"auto\")\n",
        "style = {\"description_width\": \"initial\"}\n",
        "download_bars = [widgets.FloatSlider(step=0.01, disabled=True, layout=layout, style=style) for _ in downloads]\n",
        "display(*download_bars)\n",
        "\n",
        "while downloads:\n",
        "    next_shift = 0\n",
        "    for index, download in enumerate(downloads[:]):\n",
        "        bar = download_bars[index + next_shift]\n",
        "        if not download.is_seed():\n",
        "            s = download.status()\n",
        "\n",
        "            bar.description = \" \".join(\n",
        "                [\n",
        "                    download.name(),\n",
        "                    str(s.download_rate / 1000),\n",
        "                    \"kB/s\",\n",
        "                    state_str[s.state],\n",
        "                ]\n",
        "            )\n",
        "            bar.value = s.progress * 100\n",
        "        else:\n",
        "            next_shift -= 1\n",
        "            ses.remove_torrent(download)\n",
        "            downloads.remove(download)\n",
        "            bar.close() # Seems to be not working in Colab (see https://github.com/googlecolab/colabtools/issues/726#issue-486731758)\n",
        "            download_bars.remove(bar)\n",
        "            print(download.name(), \"complete\")\n",
        "    time.sleep(1)"
      ]
    },
    {
      "cell_type": "code",
      "source": [
        "#@markdown <br><center><img src='https://raw.githubusercontent.com/dropcreations/Essential-Google-Colab-Notebook/0b62cd8a437d3439a1dbece9119b73bfa890ad1a/cell_logos/qBittorrent-Logo.svg' height=\"50\" alt=\"qBittorrent-logo\"/></center>\n",
        "#@markdown <center><h3><b>Install qBittorrent</b></h3></center><br>\n",
        "import os\n",
        "import time\n",
        "import json\n",
        "import urllib.request\n",
        "from IPython.display import clear_output\n",
        "\n",
        "if os.path.isfile('/tools/node/bin/lt') is False:\n",
        "    !npm install -g npm\n",
        "    !npm install -g localtunnel\n",
        "else:\n",
        "    print(\"Localtunnel is already installed.\")\n",
        "\n",
        "if os.path.isfile(\"/usr/bin/qbittorrent-nox\") is False:\n",
        "    !apt update -qq -y && yes \"\" | add-apt-repository ppa:qbittorrent-team/qbittorrent-stable\n",
        "    !apt install qbittorrent-nox\n",
        "    !mkdir -p -m 666 /{content/qBittorrent,root/{.qBittorrent_temp,.config/qBittorrent}} && curl -s https://pastebin.com/raw/7TEALGNz -o /root/.config/qBittorrent/qBittorrent.conf\n",
        "    print(\"qBittorrent successfully installed.\")\n",
        "    clear_output(wait=True)\n",
        "else:\n",
        "    print(\"qBittorrent is already installed.\")\n",
        "    clear_output(wait=True)\n",
        "    !pkill qbittorrent-nox\n",
        "\n",
        "!qbittorrent-nox -d --webui-port=5454\n",
        "print(\"qBittorrent is started.\")\n",
        "clear_output(wait=True)\n",
        "!lt --port 5454"
      ],
      "metadata": {
        "cellView": "form",
        "id": "f3u7pVeD9OPe"
      },
      "execution_count": null,
      "outputs": []
    }
  ]
}