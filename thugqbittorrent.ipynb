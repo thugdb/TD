{
  "nbformat": 4,
  "nbformat_minor": 0,
  "metadata": {
    "colab": {
      "provenance": [],
      "authorship_tag": "ABX9TyPLZpn/ZMrNX+6yfHlY0080",
      "include_colab_link": true
    },
    "kernelspec": {
      "name": "python3",
      "display_name": "Python 3"
    },
    "language_info": {
      "name": "python"
    }
  },
  "cells": [
    {
      "cell_type": "markdown",
      "metadata": {
        "id": "view-in-github",
        "colab_type": "text"
      },
      "source": [
        "<a href=\"https://colab.research.google.com/github/thugdb/Torrent-to-Gdrive/blob/main/thugqbittorrent.ipynb\" target=\"_parent\"><img src=\"https://colab.research.google.com/assets/colab-badge.svg\" alt=\"Open In Colab\"/></a>"
      ]
    },
    {
      "cell_type": "markdown",
      "source": [
        "# __Mount Google Drive__"
      ],
      "metadata": {
        "id": "qC6PmtJYyK2A"
      }
    },
    {
      "cell_type": "code",
      "source": [
        "#@markdown <br><center><img src='https://raw.githubusercontent.com/dropcreations/Essential-Google-Colab-Notebook/0b62cd8a437d3439a1dbece9119b73bfa890ad1a/cell_logos/Google-Drive-Logo.svg' height=\"50\" alt=\"Gdrive-logo\"/></center>\n",
        "#@markdown <center><h3><b>Mount Google Drive</b></h3></center><br>\n",
        "MODE = \"MOUNT\" #@param [\"MOUNT\", \"UNMOUNT\"]\n",
        "#Mount your Gdrive! \n",
        "from google.colab import drive\n",
        "drive.mount._DEBUG = False\n",
        "if MODE == \"MOUNT\":\n",
        "  drive.mount('/content/drive', force_remount=True)\n",
        "elif MODE == \"UNMOUNT\":\n",
        "  try:\n",
        "    drive.flush_and_unmount()\n",
        "  except ValueError:\n",
        "    pass\n",
        "  get_ipython().system_raw(\"rm -rf /root/.config/Google/DriveFS\")"
      ],
      "metadata": {
        "cellView": "form",
        "id": "0Il1pfgPyP7c"
      },
      "execution_count": null,
      "outputs": []
    },
    {
      "cell_type": "markdown",
      "source": [
        "#### __qBittorrent__"
      ],
      "metadata": {
        "id": "kM1Nz11l830X"
      }
    },
    {
      "cell_type": "code",
      "source": [
        "#@markdown <br><center><img src='https://raw.githubusercontent.com/dropcreations/Essential-Google-Colab-Notebook/0b62cd8a437d3439a1dbece9119b73bfa890ad1a/cell_logos/qBittorrent-Logo.svg' height=\"50\" alt=\"qBittorrent-logo\"/></center>\n",
        "#@markdown <center><h3><b>Install qBittorrent</b></h3></center><br>\n",
        "import os\n",
        "import time\n",
        "import json\n",
        "import urllib.request\n",
        "from IPython.display import clear_output\n",
        "\n",
        "if os.path.isfile('/tools/node/bin/lt') is False:\n",
        "    !npm install -g npm\n",
        "    !npm install -g localtunnel\n",
        "else:\n",
        "    print(\"Localtunnel is already installed.\")\n",
        "\n",
        "if os.path.isfile(\"/usr/bin/qbittorrent-nox\") is False:\n",
        "    !apt update -qq -y && yes \"\" | add-apt-repository ppa:qbittorrent-team/qbittorrent-stable\n",
        "    !apt install qbittorrent-nox\n",
        "    !mkdir -p -m 666 /{content/qBittorrent,root/{.qBittorrent_temp,.config/qBittorrent}} && curl -s https://pastebin.com/raw/7TEALGNz -o /root/.config/qBittorrent/qBittorrent.conf\n",
        "    print(\"qBittorrent successfully installed.\")\n",
        "    clear_output(wait=True)\n",
        "else:\n",
        "    print(\"qBittorrent is already installed.\")\n",
        "    clear_output(wait=True)\n",
        "    !pkill qbittorrent-nox\n",
        "\n",
        "!qbittorrent-nox -d --webui-port=5454\n",
        "print(\"qBittorrent is started.\")\n",
        "clear_output(wait=True)\n",
        "!lt --port 5454"
      ],
      "metadata": {
        "cellView": "form",
        "id": "f3u7pVeD9OPe"
      },
      "execution_count": null,
      "outputs": []
    }
  ]
}